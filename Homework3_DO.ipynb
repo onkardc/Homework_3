{
  "nbformat": 4,
  "nbformat_minor": 0,
  "metadata": {
    "colab": {
      "name": "Homework3_DO.ipynb",
      "provenance": [],
      "collapsed_sections": [],
      "authorship_tag": "ABX9TyPu9Vx9Yi7CMeRHKOd6FDY4",
      "include_colab_link": true
    },
    "kernelspec": {
      "name": "python3",
      "display_name": "Python 3"
    },
    "language_info": {
      "name": "python"
    }
  },
  "cells": [
    {
      "cell_type": "markdown",
      "metadata": {
        "id": "view-in-github",
        "colab_type": "text"
      },
      "source": [
        "<a href=\"https://colab.research.google.com/github/onkardc/Homework_3/blob/main/Homework3_DO.ipynb\" target=\"_parent\"><img src=\"https://colab.research.google.com/assets/colab-badge.svg\" alt=\"Open In Colab\"/></a>"
      ]
    },
    {
      "cell_type": "code",
      "metadata": {
        "id": "i5AbC3pYFAU0"
      },
      "source": [
        "import matplotlib.pyplot as plt\n",
        "plt.rcParams['figure.figsize']=[15,9]"
      ],
      "execution_count": 10,
      "outputs": []
    },
    {
      "cell_type": "code",
      "metadata": {
        "colab": {
          "base_uri": "https://localhost:8080/",
          "height": 720
        },
        "id": "82FEY0GPKka7",
        "outputId": "b41263e9-3eaa-4f19-9545-e5f6f4bc6c3b"
      },
      "source": [
        "x1 = Variable(t.tensor([0.0,0.1,0.2,0.3,0.4,0.5,0.6,0.7,0.8,0.9,1.0]), requires_grad=False)\n",
        "p = Variable(t.tensor([28.1,34.4,36.7,36.9,36.8,36.7,36.5,35.4,32.9,27.7,17.5]), requires_grad=False)\n",
        "\n",
        "T = 20 \n",
        "a1=[8.07131, 1730.63, 233.426] #a1 = a_water\n",
        "a2=[7.43155, 1554.679, 240.337] #a2 = a_1,4-dioxane\n",
        "\n",
        "# Saturation pressures for 1 and 1,4-dioxane\n",
        "\n",
        "psat1 = Variable(t.tensor(10**(a1[0]-(a1[1]/(T+a1[2])))), requires_grad=False)\n",
        "psat2 = Variable(t.tensor(10**(a2[0]-(a2[1]/(T+a2[2])))), requires_grad=False)\n",
        "print('Saturation pressure of water (at T = 20degC) =', psat1.item())\n",
        "print('Saturation pressure of 1,4-dioxane (at T = 20degC) =', psat2.item())\n",
        "\n",
        "eps = 1e-1 # Termination criterion\n",
        "A = Variable(t.tensor([10.0, 5.0]), requires_grad=True)\n",
        "\n",
        "func = lambda A, x1, psat1, psat2:\\\n",
        "        t.dot((p-(x1*psat1*t.exp((A[0]*(A[1]*(1-x1))**2/((A[0]*x1+A[1]*(1-x1))**2)))\\\n",
        "        + (1-x1)*psat2*t.exp((A[1]*((A[0]*x1)**2)/((A[0]*x1+A[1]*(1-x1))**2))))),\\\n",
        "        (p-(x1*psat1*t.exp((A[0]*(A[1]*(1-x1))**2/((A[0]*x1+A[1]*(1-x1))**2)))\\\n",
        "        + (1-x1)*psat2*t.exp((A[1]*((A[0]*x1)**2)/((A[0]*x1+A[1]*(1-x1))**2))))))\n",
        "\n",
        "def line_search(A,x1,psat1,psat2): #Performing Amijo Line Search\n",
        "    a = 1.0\n",
        "    phi = lambda a, A, x1, psat1, psat2: func(A,x1,psat1,psat2) - a * 0.8 * A.grad @ A.grad.transpose(0,0)\n",
        "    while phi(a,A,x1,psat1,psat2) < func((A - a * A.grad),x1,psat1,psat2):\n",
        "      a = 0.5 * a\n",
        "    return a\n",
        "\n",
        "err = 1\n",
        "\n",
        "while err >= eps: # Solving using gradiient descent\n",
        "    loss = func(A,x1,psat1,psat2)\n",
        "    loss.backward()\n",
        "    err = A.grad.norm()\n",
        "   \n",
        "    with t.no_grad():\n",
        "        a = line_search(A,x1,psat1,psat2)\n",
        "        A -= a*A.grad\n",
        "        A.grad.zero_()\n",
        "\n",
        "#predp = predicated value of p\n",
        "predp = (x1*psat1*t.exp((A[0]*(A[1]*(1-x1))**2/((A[0]*x1+A[1]*(1-x1))**2)))\\\n",
        "        + (1-x1)*psat2*t.exp((A[1]*((A[0]*x1)**2)/((A[0]*x1+A[1]*(1-x1))**2))))\n",
        "\n",
        "print('A12 =',A[0].data.numpy())\n",
        "print('A21 =',A[1].data.numpy())\n",
        "print('Loss function =',loss.data.numpy())\n",
        "print('Measured values of p =',p.data.numpy())\n",
        "print('Calculated values of p =',predp.data.numpy())\n",
        "print('Difference in calculated and measured values of p =', (p-predp).data.numpy())\n",
        "\n",
        "plt.plot(predp.data.numpy())\n",
        "plt.plot(p.data.numpy())"
      ],
      "execution_count": 15,
      "outputs": [
        {
          "output_type": "stream",
          "name": "stdout",
          "text": [
            "Saturation pressure of water (at T = 20degC) = 17.473251342773438\n",
            "Saturation pressure of 1,4-dioxane (at T = 20degC) = 28.824098587036133\n",
            "A12 = 1.9578605\n",
            "A21 = 1.6896445\n",
            "Loss function = 0.67023647\n",
            "Measured values of p = [28.1 34.4 36.7 36.9 36.8 36.7 36.5 35.4 32.9 27.7 17.5]\n",
            "Calculated values of p = [28.824099 34.641922 36.451233 36.866104 36.87291  36.748795 36.389854\n",
            " 35.38533  32.949886 27.733051 17.473251]\n",
            "Difference in calculated and measured values of p = [-0.7240982  -0.24192047  0.24876785  0.0338974  -0.07291031 -0.04879379\n",
            "  0.11014557  0.01467133 -0.0498848  -0.03305054  0.02674866]\n"
          ]
        },
        {
          "output_type": "execute_result",
          "data": {
            "text/plain": [
              "[<matplotlib.lines.Line2D at 0x7f0c66a33e10>]"
            ]
          },
          "metadata": {},
          "execution_count": 15
        },
        {
          "output_type": "display_data",
          "data": {
            "image/png": "[encoded data removed]",
            "text/plain": [
              "<Figure size 1080x648 with 1 Axes>"
            ]
          },
          "metadata": {
            "needs_background": "light"
          }
        }
      ]
    },
    {
      "cell_type": "code",
      "metadata": {
        "colab": {
          "base_uri": "https://localhost:8080/",
          "height": 363
        },
        "id": "XRpfCnWspRhl",
        "outputId": "fc400de5-ecd7-477a-f76a-148bcb9909ff"
      },
      "source": [
        "from sklearn.gaussian_process import GaussianProcessRegressor\n",
        "\n",
        "def func(x):\n",
        "    return ((4 - x[0]**2 + (x[0]**4)/3)*x[0]**2+x[0]*x[1]+(-4+4*x[1]**2)*x[1]**2)\n",
        "\n",
        "X1 = np.linspace(-3,3,300)\n",
        "X2 = np.linspace(-2,2,300)\n",
        "x = np.array([[x1, x2] for x1 in X1 for x2 in X2])\n",
        "fx = [func(x_i) for x_i in x]\n",
        "plt.plot(fx,'r--',label = \"function\")\n",
        "plt.plot(x,'-')\n",
        "plt.xlabel(\"input_value\")\n",
        "plt.ylabel(\"Function\")\n",
        "plt.legend()\n",
        "plt.grid()\n",
        "plt.show()\n",
        "[np.array(fx).argmin()]\n",
        "\n",
        "x1,x2 = np.meshgrid(X1,X2)\n",
        "\n",
        "bounds = np.array([[-3,3],[-2,2]])\n",
        "\n",
        "xp,yp = GaussianProcessRegressor(n_iters=30,sample_loss=func,bounds=bounds,n_pre_samples=5,random_search=100000)\n",
        "\n",
        "print(xp[-1])\n",
        "print(yp[-1])"
      ],
      "execution_count": 16,
      "outputs": [
        {
          "output_type": "error",
          "ename": "ImportError",
          "evalue": "ignored",
          "traceback": [
            "\u001b[0;31m---------------------------------------------------------------------------\u001b[0m",
            "\u001b[0;31mImportError\u001b[0m                               Traceback (most recent call last)",
            "\u001b[0;32m<ipython-input-16-040d739eb463>\u001b[0m in \u001b[0;36m<module>\u001b[0;34m()\u001b[0m\n\u001b[0;32m----> 1\u001b[0;31m \u001b[0;32mfrom\u001b[0m \u001b[0msklearn\u001b[0m \u001b[0;32mimport\u001b[0m \u001b[0mGaussianProcessRegressor\u001b[0m\u001b[0;34m\u001b[0m\u001b[0;34m\u001b[0m\u001b[0m\n\u001b[0m\u001b[1;32m      2\u001b[0m \u001b[0;34m\u001b[0m\u001b[0m\n\u001b[1;32m      3\u001b[0m \u001b[0;32mdef\u001b[0m \u001b[0mfunc\u001b[0m\u001b[0;34m(\u001b[0m\u001b[0mx\u001b[0m\u001b[0;34m)\u001b[0m\u001b[0;34m:\u001b[0m\u001b[0;34m\u001b[0m\u001b[0;34m\u001b[0m\u001b[0m\n\u001b[1;32m      4\u001b[0m     \u001b[0;32mreturn\u001b[0m \u001b[0;34m(\u001b[0m\u001b[0;34m(\u001b[0m\u001b[0;36m4\u001b[0m \u001b[0;34m-\u001b[0m \u001b[0mx\u001b[0m\u001b[0;34m[\u001b[0m\u001b[0;36m0\u001b[0m\u001b[0;34m]\u001b[0m\u001b[0;34m**\u001b[0m\u001b[0;36m2\u001b[0m \u001b[0;34m+\u001b[0m \u001b[0;34m(\u001b[0m\u001b[0mx\u001b[0m\u001b[0;34m[\u001b[0m\u001b[0;36m0\u001b[0m\u001b[0;34m]\u001b[0m\u001b[0;34m**\u001b[0m\u001b[0;36m4\u001b[0m\u001b[0;34m)\u001b[0m\u001b[0;34m/\u001b[0m\u001b[0;36m3\u001b[0m\u001b[0;34m)\u001b[0m\u001b[0;34m*\u001b[0m\u001b[0mx\u001b[0m\u001b[0;34m[\u001b[0m\u001b[0;36m0\u001b[0m\u001b[0;34m]\u001b[0m\u001b[0;34m**\u001b[0m\u001b[0;36m2\u001b[0m\u001b[0;34m+\u001b[0m\u001b[0mx\u001b[0m\u001b[0;34m[\u001b[0m\u001b[0;36m0\u001b[0m\u001b[0;34m]\u001b[0m\u001b[0;34m*\u001b[0m\u001b[0mx\u001b[0m\u001b[0;34m[\u001b[0m\u001b[0;36m1\u001b[0m\u001b[0;34m]\u001b[0m\u001b[0;34m+\u001b[0m\u001b[0;34m(\u001b[0m\u001b[0;34m-\u001b[0m\u001b[0;36m4\u001b[0m\u001b[0;34m+\u001b[0m\u001b[0;36m4\u001b[0m\u001b[0;34m*\u001b[0m\u001b[0mx\u001b[0m\u001b[0;34m[\u001b[0m\u001b[0;36m1\u001b[0m\u001b[0;34m]\u001b[0m\u001b[0;34m**\u001b[0m\u001b[0;36m2\u001b[0m\u001b[0;34m)\u001b[0m\u001b[0;34m*\u001b[0m\u001b[0mx\u001b[0m\u001b[0;34m[\u001b[0m\u001b[0;36m1\u001b[0m\u001b[0;34m]\u001b[0m\u001b[0;34m**\u001b[0m\u001b[0;36m2\u001b[0m\u001b[0;34m)\u001b[0m\u001b[0;34m\u001b[0m\u001b[0;34m\u001b[0m\u001b[0m\n\u001b[1;32m      5\u001b[0m \u001b[0;34m\u001b[0m\u001b[0m\n",
            "\u001b[0;31mImportError\u001b[0m: cannot import name 'GaussianProcessRegressor' from 'sklearn' (/usr/local/lib/python3.7/dist-packages/sklearn/__init__.py)",
            "",
            "\u001b[0;31m---------------------------------------------------------------------------\u001b[0;32m\nNOTE: If your import is failing due to a missing package, you can\nmanually install dependencies using either !pip or !apt.\n\nTo view examples of installing some common dependencies, click the\n\"Open Examples\" button below.\n\u001b[0;31m---------------------------------------------------------------------------\u001b[0m\n"
          ],
          "errorDetails": {
            "actions": [
              {
                "action": "open_url",
                "actionText": "Open Examples",
                "url": "/notebooks/snippets/importing_libraries.ipynb"
              }
            ]
          }
        }
      ]
    },
    {
      "cell_type": "code",
      "metadata": {
        "colab": {
          "base_uri": "https://localhost:8080/"
        },
        "id": "eYjK82O4vX6c",
        "outputId": "9df9cb6c-a84b-4672-ebed-fcdc3f96a796"
      },
      "source": [
        "%run ./../../References/gp.py"
      ],
      "execution_count": 18,
      "outputs": [
        {
          "output_type": "stream",
          "name": "stderr",
          "text": [
            "ERROR:root:File `'./../../References/gp.py'` not found.\n"
          ]
        }
      ]
    },
    {
      "cell_type": "code",
      "metadata": {
        "colab": {
          "base_uri": "https://localhost:8080/",
          "height": 230
        },
        "id": "0HhykISTvKKH",
        "outputId": "acf072ee-2c2f-400c-c705-203b16126399"
      },
      "source": [
        "import sklearn.gaussian_process as gp\n",
        "\n",
        "n_iters = 100\n",
        "\n",
        "# Choosing the number of pre-samples to the loss function (I arbitrarily chose 5)\n",
        "n_pre_samples = 5\n",
        "\n",
        "# Defining the function to be minimized\n",
        "sample_loss = lambda x: (4-2.1*(x[0]**2)+(x[0]**4)/3)*x[0]**2+x[0]*x[1]+(-4+4*x[1]**2)*x[1]**2\n",
        "\n",
        "# Defining the parameter bounds for x1 and x2\n",
        "bounds = np.array([[-3,3],[-2,2]])\n",
        "\n",
        "# Running the bayesian optimisation function with the predefined parameters, making sure to not use pure random search\n",
        "xbaye, lossbaye = bayesian_optimisation(n_iters, sample_loss, bounds, x0 = None, n_pre_samples = 5,gp_params = None, random_search = None, alpha=1e-5, epsilon=1e-7)\n",
        "\n",
        "# Creating a plot showing the progression of the optimization function as it optimized x1 and x2\n",
        "plt.plot(np.linspace(1,(n_iters+n_pre_samples),(n_iters+n_pre_samples)), lossbaye)\n",
        "plt.title('Plot of Loss Function Value vs. Iteration # for Bayesian Optimization')\n",
        "plt.xlabel('Iteration #')\n",
        "plt.ylabel('Loss Function Value')\n",
        "\n",
        "# Printing the optimized value of x1 and x2 alongside the corresponding value for the loss function \n",
        "print('Optimized value of x1=', xbaye[-1,0])\n",
        "print('Optimized value of x2=', xbaye[-1,1])\n",
        "print('Corresponding value of loss function for optimized x1, x2 =', lossbaye[-1])"
      ],
      "execution_count": 23,
      "outputs": [
        {
          "output_type": "error",
          "ename": "NameError",
          "evalue": "ignored",
          "traceback": [
            "\u001b[0;31m---------------------------------------------------------------------------\u001b[0m",
            "\u001b[0;31mNameError\u001b[0m                                 Traceback (most recent call last)",
            "\u001b[0;32m<ipython-input-23-ce0cb9f04bc0>\u001b[0m in \u001b[0;36m<module>\u001b[0;34m()\u001b[0m\n\u001b[1;32m     13\u001b[0m \u001b[0;34m\u001b[0m\u001b[0m\n\u001b[1;32m     14\u001b[0m \u001b[0;31m# Running the bayesian optimisation function with the predefined parameters, making sure to not use pure random search\u001b[0m\u001b[0;34m\u001b[0m\u001b[0;34m\u001b[0m\u001b[0;34m\u001b[0m\u001b[0m\n\u001b[0;32m---> 15\u001b[0;31m \u001b[0mxbaye\u001b[0m\u001b[0;34m,\u001b[0m \u001b[0mlossbaye\u001b[0m \u001b[0;34m=\u001b[0m \u001b[0mbayesian_optimisation\u001b[0m\u001b[0;34m(\u001b[0m\u001b[0mn_iters\u001b[0m\u001b[0;34m,\u001b[0m \u001b[0msample_loss\u001b[0m\u001b[0;34m,\u001b[0m \u001b[0mbounds\u001b[0m\u001b[0;34m,\u001b[0m \u001b[0mx0\u001b[0m \u001b[0;34m=\u001b[0m \u001b[0;32mNone\u001b[0m\u001b[0;34m,\u001b[0m \u001b[0mn_pre_samples\u001b[0m \u001b[0;34m=\u001b[0m \u001b[0;36m5\u001b[0m\u001b[0;34m,\u001b[0m\u001b[0mgp_params\u001b[0m \u001b[0;34m=\u001b[0m \u001b[0;32mNone\u001b[0m\u001b[0;34m,\u001b[0m \u001b[0mrandom_search\u001b[0m \u001b[0;34m=\u001b[0m \u001b[0;32mNone\u001b[0m\u001b[0;34m,\u001b[0m \u001b[0malpha\u001b[0m\u001b[0;34m=\u001b[0m\u001b[0;36m1e-5\u001b[0m\u001b[0;34m,\u001b[0m \u001b[0mepsilon\u001b[0m\u001b[0;34m=\u001b[0m\u001b[0;36m1e-7\u001b[0m\u001b[0;34m)\u001b[0m\u001b[0;34m\u001b[0m\u001b[0;34m\u001b[0m\u001b[0m\n\u001b[0m\u001b[1;32m     16\u001b[0m \u001b[0;34m\u001b[0m\u001b[0m\n\u001b[1;32m     17\u001b[0m \u001b[0;31m# Creating a plot showing the progression of the optimization function as it optimized x1 and x2\u001b[0m\u001b[0;34m\u001b[0m\u001b[0;34m\u001b[0m\u001b[0;34m\u001b[0m\u001b[0m\n",
            "\u001b[0;31mNameError\u001b[0m: name 'bayesian_optimisation' is not defined"
          ]
        }
      ]
    }
  ]
}